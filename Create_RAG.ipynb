{
  "nbformat": 4,
  "nbformat_minor": 0,
  "metadata": {
    "colab": {
      "provenance": []
    },
    "kernelspec": {
      "name": "python3",
      "display_name": "Python 3"
    },
    "language_info": {
      "name": "python"
    }
  },
  "cells": [
    {
      "cell_type": "code",
      "source": [
        "! pip install pypdf\n",
        "! pip install -q transformers einops accelerate langchain bitsandbytes\n",
        "pip install -U langchain-community\n",
        "! pip install sentence_transformers\n",
        "! pip install llama_index\n",
        "!pip install llama-index-llms-huggingface"
      ],
      "metadata": {
        "id": "WI_hF5WnVJCl"
      },
      "execution_count": null,
      "outputs": []
    },
    {
      "cell_type": "code",
      "execution_count": null,
      "metadata": {
        "id": "hArqeti4U-0E"
      },
      "outputs": [],
      "source": [
        "import os\n",
        "import torch\n",
        "from sentence_transformers import SentenceTransformer\n",
        "from llama_index.core import VectorStoreIndex, SimpleDirectoryReader, ServiceContext\n",
        "from llama_index.llms.huggingface import HuggingFaceLLM\n",
        "from llama_index.core.prompts.prompts import SimpleInputPrompt\n",
        "from langchain.embeddings.huggingface import HuggingFaceEmbeddings\n",
        "from llama_index.core import ServiceContext\n",
        "from llama_index.legacy.embeddings.langchain import LangchainEmbedding\n"
      ]
    },
    {
      "cell_type": "code",
      "source": [
        "!!huggingface-cli login"
      ],
      "metadata": {
        "id": "BYzTJeRVVbvD"
      },
      "execution_count": null,
      "outputs": []
    },
    {
      "cell_type": "markdown",
      "source": [
        "Load PDF files"
      ],
      "metadata": {
        "id": "-7tRphPKWX0Q"
      }
    },
    {
      "cell_type": "code",
      "source": [
        "# Function to recursively read all documents in a directory\n",
        "def load_all_documents(parent_directory):\n",
        "    all_documents = []\n",
        "    for root, dirs, files in os.walk(parent_directory):\n",
        "        if files:\n",
        "            reader = SimpleDirectoryReader(root)\n",
        "            documents = reader.load_data()\n",
        "            all_documents.extend(documents)\n",
        "    return all_documents\n",
        "\n",
        "# Define the parent directory containing multiple folders\n",
        "parent_directory = \"/content/data\"\n",
        "\n",
        "# Load all documents from the parent directory\n",
        "documents = load_all_documents(parent_directory)"
      ],
      "metadata": {
        "id": "GU_vWgTqVHeN"
      },
      "execution_count": null,
      "outputs": []
    },
    {
      "cell_type": "code",
      "source": [
        "system_prompt=\"\"\"\n",
        "You are a Q&A assistant. Your goal is to answer questions as accurately as possible based on the instructions and context provided.\n",
        "\"\"\"\n",
        "#default format supportable by LLama2\n",
        "query_wrapper_prompt=SimpleInputPrompt(\"<|USER|> {query_str}<|ASSISTANT|>\")"
      ],
      "metadata": {
        "id": "qzhPAJ6TVHbY"
      },
      "execution_count": null,
      "outputs": []
    },
    {
      "cell_type": "code",
      "source": [
        "llm = HuggingFaceLLM(\n",
        "    context_window=4096,\n",
        "    max_new_tokens=256,\n",
        "    generate_kwargs={\"temperature\":0.0, \"do_sample\": False},\n",
        "    system_prompt=system_prompt,\n",
        "    query_wrapper_prompt=query_wrapper_prompt,\n",
        "    tokenizer_name=\"meta-llama/Llama-2-7b-chat-hf\",\n",
        "    model_name=\"meta-llama/Llama-2-7b-chat-hf\",\n",
        "    device_map=\"auto\",\n",
        "    model_kwargs={\"torch_dtype\": torch.float16, \"load_in_8bit\":True}\n",
        "\n",
        ")\n",
        "model = SentenceTransformer(\"sentence-transformers/all-mpnet-base-v2\")\n",
        "embed_model = LangchainEmbedding(\n",
        "    HuggingFaceEmbeddings(model_name=\"sentence-transformers/all-mpnet-base-v2\"))\n",
        "\n"
      ],
      "metadata": {
        "id": "l8N-WpPVVHYv"
      },
      "execution_count": null,
      "outputs": []
    },
    {
      "cell_type": "markdown",
      "source": [
        "Create vector database and store"
      ],
      "metadata": {
        "id": "4-jrWTK1WkEI"
      }
    },
    {
      "cell_type": "code",
      "source": [
        "service_context = ServiceContext.from_defaults(\n",
        "    chunk_size=1024,\n",
        "    llm=llm,\n",
        "    embed_model=embed_model\n",
        ")\n",
        "index = VectorStoreIndex.from_documents(documents, service_context=service_context)\n",
        "index.storage_context.persist()"
      ],
      "metadata": {
        "id": "ETQZ7TuFVHVw"
      },
      "execution_count": null,
      "outputs": []
    },
    {
      "cell_type": "code",
      "source": [
        "query_engine = index.as_query_engine()"
      ],
      "metadata": {
        "id": "fT222p1oWCty"
      },
      "execution_count": null,
      "outputs": []
    },
    {
      "cell_type": "markdown",
      "source": [
        "Test examples"
      ],
      "metadata": {
        "id": "52Dn5_tiWrJf"
      }
    },
    {
      "cell_type": "code",
      "source": [
        "response = query_engine.query(\"What are the OTC medication for shingle\")\n",
        "print(response)"
      ],
      "metadata": {
        "id": "TMi2jcCnWFiT"
      },
      "execution_count": null,
      "outputs": []
    },
    {
      "cell_type": "code",
      "source": [
        "response = query_engine.query(\"Provide some products with brand name, price, ingredients for dermatsis?\")\n",
        "print(response)"
      ],
      "metadata": {
        "id": "IiG-Me29WJE_"
      },
      "execution_count": null,
      "outputs": []
    },
    {
      "cell_type": "code",
      "source": [
        "response = query_engine.query(\"Provide the best product for hives? List products recommendation i can buy for either home treatment or drug choice\")\n",
        "print(response)"
      ],
      "metadata": {
        "id": "AckI4D70WLru"
      },
      "execution_count": null,
      "outputs": []
    },
    {
      "cell_type": "code",
      "source": [],
      "metadata": {
        "id": "EGH3jSrrWic2"
      },
      "execution_count": null,
      "outputs": []
    }
  ]
}
